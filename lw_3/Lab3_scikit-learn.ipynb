{
 "cells": [
  {
   "cell_type": "markdown",
   "metadata": {},
   "source": [
    "<p style=\"text-align: center;\">МИНИСТЕРСТВО ОБРАЗОВАНИЯ И НАУКИ\n",
    "РОССИЙСКОЙ ФЕДЕРАЦИИ\n",
    "\n",
    "<p style=\"text-align: center;\">Федеральное государственное автономное\n",
    "образовательное учреждение высшего образования\n",
    "«Самарский национальный исследовательский университет\n",
    "имени академика С. П. Королева»\n",
    "(Самарский университет)</p>\n",
    "<br>\n",
    "<br>\n",
    "<br>\n",
    "\n",
    "<p style=\"text-align: center;\">Институт информатики и кибернетики\n",
    "    \n",
    "<p style=\"text-align: center;\">Факультет информатики\n",
    "    \n",
    "<p style=\"text-align: center;\">Кафедра программных систем\n",
    "    \n",
    " <br><br><br>   \n",
    "\n",
    "<p style=\"text-align: center;\">ОТЧЁТ\n",
    "\n",
    "<p style=\"text-align: center;\">по лабораторной работе № 3\n",
    "<p style=\"text-align: center;\">«Интеллектуальный анализ данных с библиотекой scikit-learn»\n",
    "<p style=\"text-align: center;\">по курсу «Интеллектуальный анализ данных и большие данные»\n",
    "\n",
    "<p style=\"text-align: center;\">\n",
    "<br><br><br><br><br><br><br><br>\n",
    "\n",
    "\n",
    "\n",
    "\n",
    "\n",
    "\n",
    "\n",
    "<p style=\"text-align: right;\">Выполнил: <Фамилия И.О.>\n",
    "<p style=\"text-align: right;\">гр. 613X-020402D\n",
    "<p style=\"text-align: right;\">\n",
    "<br><br><br><br><br><br><br><br><br>\n",
    "\n",
    "\n",
    "\n",
    "\n",
    "\n",
    "\n",
    "\n",
    "\n",
    "<p style=\"text-align: center;\">Самара 2025\n"
   ]
  },
  {
   "cell_type": "markdown",
   "metadata": {
    "id": "82OvPKEiEqjc"
   },
   "source": [
    "# Интеллектуальный анализ данных с библиотекой scikit-learn\n"
   ]
  },
  {
   "cell_type": "code",
   "execution_count": null,
   "metadata": {
    "colab": {
     "base_uri": "https://localhost:8080/",
     "height": 102
    },
    "id": "vt9H9Alf3TYv",
    "outputId": "51aeffc9-e111-4607-bd84-cfcc7b56f238"
   },
   "outputs": [],
   "source": []
  },
  {
   "cell_type": "markdown",
   "metadata": {
    "id": "R7az-6DA6qr2"
   },
   "source": [
    "## Упражнение 1\n",
    "\n",
    "Протестируйте примеры matplotlib в блокноте: скопируйте ссылку на исходный код ``Source Code`` на каждой странице и поместите ее в блокнот, используя магию ``%load``. Используйте следующие ссылки:\n",
    "\n",
    "https://matplotlib.org/2.0.2/mpl_examples/lines_bars_and_markers/fill_demo.py\n",
    "\n",
    "http://matplotlib.org/mpl_examples/pylab_examples/ellipse_collection.py"
   ]
  },
  {
   "cell_type": "code",
   "execution_count": null,
   "metadata": {
    "colab": {
     "base_uri": "https://localhost:8080/",
     "height": 34
    },
    "id": "dN-nbtgG6uYG",
    "outputId": "24117576-7931-401d-a581-28e246b23453"
   },
   "outputs": [],
   "source": [
    "%load https://matplotlib.org/2.0.2/mpl_examples/lines_bars_and_markers/fill_demo.py"
   ]
  },
  {
   "cell_type": "code",
   "execution_count": null,
   "metadata": {},
   "outputs": [],
   "source": [
    "%load http://matplotlib.org/mpl_examples/pylab_examples/ellipse_collection.py"
   ]
  },
  {
   "cell_type": "markdown",
   "metadata": {
    "id": "h-jRAcYCAkkk"
   },
   "source": [
    "## Упражнение 2\n",
    "\n",
    "1) Введите данные в массив NumPy из файла iris5.data. Найдите образцы с ошибками в параметрах и удалите их из набора.\n",
    "2) Введите данные в DataFrame из файла iris5.data. Найдите образцы с ошибками в параметрах и удалите их из набора."
   ]
  },
  {
   "cell_type": "code",
   "execution_count": 19,
   "metadata": {
    "id": "nw-b-xJsApgW"
   },
   "outputs": [],
   "source": [
    "import numpy as np\n"
   ]
  },
  {
   "cell_type": "code",
   "execution_count": null,
   "metadata": {},
   "outputs": [],
   "source": [
    "import pandas as pd\n",
    "from pandas import Series, DataFrame\n",
    "\n"
   ]
  },
  {
   "cell_type": "markdown",
   "metadata": {
    "id": "kxirlf3XqZxY"
   },
   "source": [
    "## Упражнение 3\n",
    "\n",
    "Классификация: \n",
    "1) Примените KNeighborsClassifier к набору данных `iris`. Поиграйте с разными значениями `n_neighbors` и понаблюдайте, как меняются результаты обучения и теста.\n",
    "2) Примените RandomForestClassifier к набору данных `iris`. Поиграйте с разными значениями `n_neighbors` и понаблюдайте, как меняются результаты обучения и теста."
   ]
  },
  {
   "cell_type": "code",
   "execution_count": null,
   "metadata": {
    "colab": {
     "base_uri": "https://localhost:8080/",
     "height": 68
    },
    "id": "uR_zfGFkMZlp",
    "outputId": "c8d46167-473d-43b9-881a-2396991b3731"
   },
   "outputs": [],
   "source": [
    "from sklearn.ensemble import RandomForestClassifier\n"
   ]
  },
  {
   "cell_type": "code",
   "execution_count": null,
   "metadata": {},
   "outputs": [],
   "source": [
    "from sklearn.neighbors import KNeighborsClassifier\n"
   ]
  },
  {
   "cell_type": "markdown",
   "metadata": {
    "id": "gCJGx8IQ87xS"
   },
   "source": [
    "## Упражнение 4\n",
    "\n",
    "Сокращение размерности:\n",
    "Сравните результаты применения PCA, Isomap и t-SNE на 5-классовом подмножестве набора данных цифр (``load_digits(5)``).\n",
    "\n",
    "*Указание:*\n",
    "*Для t-SNE руководствуйтесь следующим примером из scikit-learn:*\n",
    "https://scikit-learn.org/stable/auto_examples/manifold/plot_t_sne_perplexity.html"
   ]
  },
  {
   "cell_type": "code",
   "execution_count": null,
   "metadata": {
    "colab": {
     "base_uri": "https://localhost:8080/",
     "height": 578
    },
    "id": "P2v8v1v_8_YR",
    "outputId": "e0987c25-9757-46cb-8e55-d5d2adfbee2b"
   },
   "outputs": [],
   "source": [
    "from sklearn.decomposition import PCA\n"
   ]
  },
  {
   "cell_type": "code",
   "execution_count": null,
   "metadata": {},
   "outputs": [],
   "source": [
    "from sklearn.datasets import load_digits\n",
    "\n",
    "digits = load_digits(n_class=5)\n",
    "\n",
    "# ..."
   ]
  },
  {
   "cell_type": "code",
   "execution_count": null,
   "metadata": {
    "id": "MQhoJaVZI93G"
   },
   "outputs": [],
   "source": [
    "from sklearn.manifold import TSNE\n"
   ]
  },
  {
   "cell_type": "code",
   "execution_count": null,
   "metadata": {},
   "outputs": [],
   "source": [
    "from sklearn.manifold import Isomap\n"
   ]
  },
  {
   "attachments": {},
   "cell_type": "markdown",
   "metadata": {
    "id": "Iy65YJTH99iT"
   },
   "source": [
    "## Упражнение 5\n",
    "Для набора данных (см. ячейку ниже) с неизотропными кластерами, на которых kmeans не работает, подберите алгоритм кластеризации, который хорошо выделяет очевидные кластеры.\n",
    "\n",
    "<img src=\"images/set_3.png\" width=\"400\">"
   ]
  },
  {
   "cell_type": "code",
   "execution_count": 23,
   "metadata": {},
   "outputs": [],
   "source": [
    "from sklearn.datasets import make_blobs\n",
    "\n",
    "X, y = make_blobs(random_state=170, n_samples=600)\n",
    "rng = np.random.RandomState(74)\n",
    "\n",
    "# ..."
   ]
  },
  {
   "cell_type": "code",
   "execution_count": null,
   "metadata": {},
   "outputs": [],
   "source": []
  }
 ],
 "metadata": {
  "colab": {
   "provenance": []
  },
  "kernelspec": {
   "display_name": "Python 3 (ipykernel)",
   "language": "python",
   "name": "python3"
  },
  "language_info": {
   "codemirror_mode": {
    "name": "ipython",
    "version": 3
   },
   "file_extension": ".py",
   "mimetype": "text/x-python",
   "name": "python",
   "nbconvert_exporter": "python",
   "pygments_lexer": "ipython3",
   "version": "3.11.5"
  }
 },
 "nbformat": 4,
 "nbformat_minor": 4
}
